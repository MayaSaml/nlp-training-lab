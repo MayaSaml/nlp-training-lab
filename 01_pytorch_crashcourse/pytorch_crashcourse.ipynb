{
 "cells": [
  {
   "cell_type": "markdown",
   "id": "4ae25bb2",
   "metadata": {},
   "source": [
    "# 🧠 PyTorch Crash Course\n",
    "A beginner-friendly intro to PyTorch basics."
   ]
  },
  {
   "cell_type": "markdown",
   "id": "b920c9ba",
   "metadata": {},
   "source": [
    "## 1. Tensors\n",
    "Create and manipulate basic tensors."
   ]
  },
  {
   "cell_type": "code",
   "execution_count": 10,
   "id": "5b1b4338",
   "metadata": {},
   "outputs": [
    {
     "name": "stdout",
     "output_type": "stream",
     "text": [
      "1D tensor: tensor([1., 2., 3.])\n",
      "2D random tensor: tensor([[ 0.6400,  0.3545,  1.9515],\n",
      "        [-1.1371, -1.7054,  0.4741]])\n",
      "Zeros: tensor([[0., 0., 0.],\n",
      "        [0., 0., 0.],\n",
      "        [0., 0., 0.]])\n",
      "Ones: tensor([[1., 1., 1.],\n",
      "        [1., 1., 1.],\n",
      "        [1., 1., 1.]])\n",
      "x + 1 = tensor([2., 3., 4.])\n",
      "y * 2 = tensor([[ 1.2800,  0.7090,  3.9030],\n",
      "        [-2.2742, -3.4107,  0.9482]])\n",
      "Dot product x @ x.T = tensor(14.)\n"
     ]
    }
   ],
   "source": [
    "import torch\n",
    "\n",
    "# 1D tensor\n",
    "x = torch.tensor([1.0, 2.0, 3.0])\n",
    "print(\"1D tensor:\", x)\n",
    "\n",
    "# 2D random tensor\n",
    "y = torch.randn(2, 3)\n",
    "print(\"2D random tensor:\", y)\n",
    "\n",
    "# Zero and one tensors\n",
    "z = torch.zeros(3, 3)\n",
    "a = torch.ones(3, 3)\n",
    "print(\"Zeros:\", z)\n",
    "print(\"Ones:\", a)\n",
    "\n",
    "# Basic operations\n",
    "print(\"x + 1 =\", x + 1)\n",
    "print(\"y * 2 =\", y * 2)\n",
    "print(\"Dot product x @ x.T =\", torch.matmul(x, x.T))"
   ]
  },
  {
   "cell_type": "markdown",
   "id": "ae2581dc",
   "metadata": {},
   "source": [
    "## 2. Autograd & Backpropagation\n",
    "Track gradients using `requires_grad=True`."
   ]
  },
  {
   "cell_type": "code",
   "execution_count": 11,
   "id": "3fc502eb",
   "metadata": {},
   "outputs": [
    {
     "name": "stdout",
     "output_type": "stream",
     "text": [
      "Gradient dy/dx = tensor([7.])\n"
     ]
    }
   ],
   "source": [
    "x = torch.tensor([2.0], requires_grad=True)\n",
    "y = x ** 2 + 3 * x + 5\n",
    "y.backward()\n",
    "print(\"Gradient dy/dx =\", x.grad)  # Should print tensor([7.])"
   ]
  },
  {
   "cell_type": "markdown",
   "id": "1be4cd0e",
   "metadata": {},
   "source": [
    "## 3. Simple Linear Model\n",
    "Train a minimal model using `nn.Linear`."
   ]
  },
  {
   "cell_type": "code",
   "execution_count": 12,
   "id": "33409119",
   "metadata": {},
   "outputs": [
    {
     "name": "stdout",
     "output_type": "stream",
     "text": [
      "Epoch 0: Loss = 51.549766540527344\n",
      "Epoch 10: Loss = 1.334558129310608\n",
      "Epoch 20: Loss = 0.035321321338415146\n",
      "Epoch 30: Loss = 0.0016608157893642783\n",
      "Epoch 40: Loss = 0.0007464318769052625\n",
      "Epoch 50: Loss = 0.0006818300462327898\n",
      "Epoch 60: Loss = 0.0006416008691303432\n",
      "Epoch 70: Loss = 0.0006042434833943844\n",
      "Epoch 80: Loss = 0.0005690673133358359\n",
      "Epoch 90: Loss = 0.0005359512288123369\n"
     ]
    }
   ],
   "source": [
    "import torch.nn as nn\n",
    "\n",
    "# Data: y = 2x + 1\n",
    "x_train = torch.tensor([[1.0], [2.0], [3.0], [4.0]])\n",
    "y_train = torch.tensor([[3.0], [5.0], [7.0], [9.0]])\n",
    "\n",
    "model = nn.Linear(1, 1)\n",
    "loss_fn = nn.MSELoss()\n",
    "optimizer = torch.optim.SGD(model.parameters(), lr=0.01)\n",
    "\n",
    "for epoch in range(100):\n",
    "    y_pred = model(x_train)\n",
    "    loss = loss_fn(y_pred, y_train)\n",
    "\n",
    "    optimizer.zero_grad()\n",
    "    loss.backward()\n",
    "    optimizer.step()\n",
    "\n",
    "    if epoch % 10 == 0:\n",
    "        print(f\"Epoch {epoch}: Loss = {loss.item()}\")"
   ]
  },
  {
   "cell_type": "markdown",
   "id": "9ac8e476",
   "metadata": {},
   "source": [
    "## 4. Custom Model with SimpleNet\n",
    "Define your own model using `nn.Module`."
   ]
  },
  {
   "cell_type": "code",
   "execution_count": 13,
   "id": "974748a0",
   "metadata": {},
   "outputs": [
    {
     "name": "stdout",
     "output_type": "stream",
     "text": [
      "Epoch 0: Loss = 19.2456\n",
      "Epoch 10: Loss = 0.4982\n",
      "Epoch 20: Loss = 0.0131\n",
      "Epoch 30: Loss = 0.0006\n",
      "Epoch 40: Loss = 0.0002\n",
      "Epoch 50: Loss = 0.0002\n",
      "Epoch 60: Loss = 0.0002\n",
      "Epoch 70: Loss = 0.0002\n",
      "Epoch 80: Loss = 0.0002\n",
      "Epoch 90: Loss = 0.0002\n"
     ]
    }
   ],
   "source": [
    "class SimpleNet(nn.Module):\n",
    "    def __init__(self):\n",
    "        super(SimpleNet, self).__init__()\n",
    "        self.layer = nn.Linear(1, 1)\n",
    "\n",
    "    def forward(self, x):\n",
    "        return self.layer(x)\n",
    "\n",
    "model = SimpleNet()\n",
    "loss_fn = nn.MSELoss()\n",
    "optimizer = torch.optim.SGD(model.parameters(), lr=0.01)\n",
    "\n",
    "for epoch in range(100):\n",
    "    y_pred = model(x_train)\n",
    "    loss = loss_fn(y_pred, y_train)\n",
    "\n",
    "    optimizer.zero_grad()\n",
    "    loss.backward()\n",
    "    optimizer.step()\n",
    "\n",
    "    if epoch % 10 == 0:\n",
    "        print(f\"Epoch {epoch}: Loss = {loss.item():.4f}\")"
   ]
  },
  {
   "cell_type": "markdown",
   "id": "d140059b",
   "metadata": {},
   "source": [
    "## 5. Test the Model\n",
    "Try predicting a value after training."
   ]
  },
  {
   "cell_type": "code",
   "execution_count": 14,
   "id": "2391e3a2",
   "metadata": {},
   "outputs": [
    {
     "name": "stdout",
     "output_type": "stream",
     "text": [
      "Prediction for x=5: y=10.98\n"
     ]
    }
   ],
   "source": [
    "test_input = torch.tensor([[5.0]])\n",
    "test_output = model(test_input)\n",
    "print(f\"Prediction for x=5: y={test_output.item():.2f}\")"
   ]
  },
  {
   "cell_type": "markdown",
   "id": "80d6a103",
   "metadata": {},
   "source": [
    "## 6. GPU Support\n",
    "Move model and data to GPU if available."
   ]
  },
  {
   "cell_type": "code",
   "execution_count": 15,
   "id": "28bdb036",
   "metadata": {},
   "outputs": [
    {
     "name": "stdout",
     "output_type": "stream",
     "text": [
      "Using device: cuda\n"
     ]
    }
   ],
   "source": [
    "device = torch.device(\"cuda\" if torch.cuda.is_available() else \"cpu\")\n",
    "print(\"Using device:\", device)\n",
    "model = model.to(device)\n",
    "x_train = x_train.to(device)\n",
    "y_train = y_train.to(device)"
   ]
  },
  {
   "cell_type": "markdown",
   "id": "f7fe904f",
   "metadata": {},
   "source": [
    "## 7. Common Layers & Tensor Ops"
   ]
  },
  {
   "cell_type": "code",
   "execution_count": 16,
   "id": "f2afbdda",
   "metadata": {},
   "outputs": [
    {
     "name": "stdout",
     "output_type": "stream",
     "text": [
      "Original shape: torch.Size([2, 3])\n",
      "Reshaped: tensor([[0.7740, 0.0483],\n",
      "        [0.4989, 0.2405],\n",
      "        [0.2126, 0.7974]])\n",
      "Stacked: torch.Size([2, 2, 3])\n"
     ]
    }
   ],
   "source": [
    "# Layers\n",
    "relu = nn.ReLU()\n",
    "dropout = nn.Dropout(0.5)\n",
    "softmax = nn.Softmax(dim=1)\n",
    "\n",
    "# Tensor operations\n",
    "x = torch.rand(2, 3)\n",
    "print(\"Original shape:\", x.shape)\n",
    "print(\"Reshaped:\", x.view(3, 2))\n",
    "print(\"Stacked:\", torch.stack([x, x], dim=0).shape)"
   ]
  },
  {
   "cell_type": "code",
   "execution_count": null,
   "id": "d0305ebd-d443-4c76-9119-fe4c223e28e0",
   "metadata": {},
   "outputs": [],
   "source": []
  }
 ],
 "metadata": {
  "kernelspec": {
   "display_name": "Python 3 (ipykernel)",
   "language": "python",
   "name": "python3"
  },
  "language_info": {
   "codemirror_mode": {
    "name": "ipython",
    "version": 3
   },
   "file_extension": ".py",
   "mimetype": "text/x-python",
   "name": "python",
   "nbconvert_exporter": "python",
   "pygments_lexer": "ipython3",
   "version": "3.9.21"
  }
 },
 "nbformat": 4,
 "nbformat_minor": 5
}
