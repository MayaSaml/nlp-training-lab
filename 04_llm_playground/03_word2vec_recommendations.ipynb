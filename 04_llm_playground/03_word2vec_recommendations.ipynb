{
 "cells": [
  {
   "cell_type": "markdown",
   "id": "a77036a3-5dd1-406f-81d3-d5800dff1580",
   "metadata": {},
   "source": [
    "# Word2Vec for Song and Location Recommendations\n",
    "- Inspired by Chapter 2 of \"Hands-On LLMs\" by Jay Alammar & Maarten Grootendorst\n",
    "- Extended with travel location embeddings and similarity demos"
   ]
  },
  {
   "cell_type": "markdown",
   "id": "a7feb43c-bf48-4215-afd7-9cb18db0e307",
   "metadata": {},
   "source": [
    "# Part 1: Song Recommendation using Word2Vec"
   ]
  },
  {
   "cell_type": "code",
   "execution_count": 16,
   "id": "12841839-de23-40fe-afef-1b4cfba1b334",
   "metadata": {},
   "outputs": [
    {
     "name": "stdout",
     "output_type": "stream",
     "text": [
      "Chosen song:  title     Fade To Black\n",
      "artist        Metallica\n",
      "Name: 2172 , dtype: object\n",
      "\n",
      "\n",
      "Recomendations:\n"
     ]
    },
    {
     "data": {
      "text/html": [
       "<div>\n",
       "<style scoped>\n",
       "    .dataframe tbody tr th:only-of-type {\n",
       "        vertical-align: middle;\n",
       "    }\n",
       "\n",
       "    .dataframe tbody tr th {\n",
       "        vertical-align: top;\n",
       "    }\n",
       "\n",
       "    .dataframe thead th {\n",
       "        text-align: right;\n",
       "    }\n",
       "</style>\n",
       "<table border=\"1\" class=\"dataframe\">\n",
       "  <thead>\n",
       "    <tr style=\"text-align: right;\">\n",
       "      <th></th>\n",
       "      <th>title</th>\n",
       "      <th>artist</th>\n",
       "    </tr>\n",
       "    <tr>\n",
       "      <th>id</th>\n",
       "      <th></th>\n",
       "      <th></th>\n",
       "    </tr>\n",
       "  </thead>\n",
       "  <tbody>\n",
       "    <tr>\n",
       "      <th>2849</th>\n",
       "      <td>Run To The Hills</td>\n",
       "      <td>Iron Maiden</td>\n",
       "    </tr>\n",
       "    <tr>\n",
       "      <th>3167</th>\n",
       "      <td>Unchained</td>\n",
       "      <td>Van Halen</td>\n",
       "    </tr>\n",
       "    <tr>\n",
       "      <th>3126</th>\n",
       "      <td>Heavy Metal</td>\n",
       "      <td>Sammy Hagar</td>\n",
       "    </tr>\n",
       "    <tr>\n",
       "      <th>5586</th>\n",
       "      <td>The Last In Line</td>\n",
       "      <td>Dio</td>\n",
       "    </tr>\n",
       "    <tr>\n",
       "      <th>2976</th>\n",
       "      <td>I Don't Know</td>\n",
       "      <td>Ozzy Osbourne</td>\n",
       "    </tr>\n",
       "  </tbody>\n",
       "</table>\n",
       "</div>"
      ],
      "text/plain": [
       "                  title         artist\n",
       "id                                    \n",
       "2849   Run To The Hills    Iron Maiden\n",
       "3167          Unchained      Van Halen\n",
       "3126        Heavy Metal    Sammy Hagar\n",
       "5586   The Last In Line            Dio\n",
       "2976       I Don't Know  Ozzy Osbourne"
      ]
     },
     "execution_count": 16,
     "metadata": {},
     "output_type": "execute_result"
    }
   ],
   "source": [
    "import pandas as pd\n",
    "from urllib import request\n",
    "from gensim.models import Word2Vec\n",
    "import numpy as np\n",
    "\n",
    "# Load playlist data (each line is a list of song IDs)\n",
    "data = request.urlopen('https://storage.googleapis.com/maps-premium/dataset/yes_complete/train.txt')\n",
    "lines = data.read().decode('utf-8').split('\\n')[2:]\n",
    "# Parse playlists, keeping only those with 2+ songs\n",
    "playlists = [s.rstrip().split() for s in lines if len(s.split()) > 1]\n",
    "\n",
    "# Load song metadata (song ID to title + artist)\n",
    "songs_file = request.urlopen('https://storage.googleapis.com/maps-premium/dataset/yes_complete/song_hash.txt')\n",
    "songs_file = songs_file.read().decode('utf-8').split('\\n')\n",
    "songs = [s.rstrip().split('\\t') for s in songs_file]\n",
    "songs_df = pd.DataFrame(data=songs, columns= ['id','title','artist'])\n",
    "songs_df.set_index('id', inplace=True)\n",
    "\n",
    "# Train Word2Vec model on playlists\n",
    "model = Word2Vec(playlists, vector_size=32, window=20, negative=50, min_count=1, workers=4)\n",
    "wv = model.wv\n",
    "\n",
    "# Recommend similar songs\n",
    "def print_recom(song_id):\n",
    "    similar_songs = np.array(model.wv.most_similar(positive=str(song_id),topn=5))[:,0]\n",
    "    return songs_df.iloc[similar_songs]\n",
    "\n",
    "# Example usage: recommend similar songs to song_id 2172\n",
    "print('Chosen song: ', songs_df.iloc[2172])\n",
    "print('\\n')\n",
    "print('Recomendations:')\n",
    "print_recom(\"2172\")"
   ]
  },
  {
   "cell_type": "markdown",
   "id": "291ec1e1-57b8-4394-8d99-7f54abe0193c",
   "metadata": {},
   "source": [
    "# ---\n",
    "# Part 2: Simulated Location Embeddings using Word2Vec"
   ]
  },
  {
   "cell_type": "code",
   "execution_count": null,
   "id": "0cd8ee31-07b5-4db3-974b-75f3e8d52346",
   "metadata": {},
   "outputs": [],
   "source": [
    "\n",
    "from sklearn.decomposition import PCA\n",
    "import matplotlib.pyplot as plt\n",
    "import seaborn as sns\n",
    "from gensim.models import Word2Vec\n",
    "\n",
    "# 🚶 Simulated travel sequences — like trips through a city\n",
    "travel_sequences = [\n",
    "    [\"zone_home\", \"tram_stop_A\", \"university\"],\n",
    "    [\"zone_home\", \"bus_stop_B\", \"downtown\", \"gym\"],\n",
    "    [\"gym\", \"zone_home\"],\n",
    "    [\"hotel\", \"Old_Town\", \"museum\", \"cafe\"],\n",
    "    [\"zone_home\", \"tram_stop_A\", \"downtown\", \"cafe\"],\n",
    "    [\"hotel\", \"museum\", \"gallery\", \"zone_home\"],\n",
    "    [\"zone_home\", \"bakery\", \"work\"],\n",
    "    [\"work\", \"lunch_spot\", \"work\", \"gym\"],\n",
    "    [\"home_2\", \"bus_stop_B\", \"university\"],\n",
    "    [\"zone_home\", \"market\", \"bakery\"],\n",
    "]\n",
    "\n",
    "# ⚙️ Train Word2Vec model on travel data\n",
    "travel_model = Word2Vec(sentences=travel_sequences, vector_size=16, window=3, min_count=1, workers=2, seed=42)\n",
    "twv = travel_model.wv\n",
    "\n",
    "# 🔍 Check which places are most similar to \"zone_home\"\n",
    "similar_to_home = twv.most_similar(\"zone_home\", topn=5)\n",
    "print(\"Most similar to 'zone_home':\", similar_to_home)\n"
   ]
  },
  {
   "cell_type": "code",
   "execution_count": null,
   "id": "fa8a30f8-10cd-4559-b62c-30755211e148",
   "metadata": {},
   "outputs": [],
   "source": []
  }
 ],
 "metadata": {
  "kernelspec": {
   "display_name": "Python (re)",
   "language": "python",
   "name": "re"
  },
  "language_info": {
   "codemirror_mode": {
    "name": "ipython",
    "version": 3
   },
   "file_extension": ".py",
   "mimetype": "text/x-python",
   "name": "python",
   "nbconvert_exporter": "python",
   "pygments_lexer": "ipython3",
   "version": "3.10.16"
  }
 },
 "nbformat": 4,
 "nbformat_minor": 5
}
